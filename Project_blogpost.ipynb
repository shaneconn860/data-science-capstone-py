{
 "cells": [
  {
   "cell_type": "markdown",
   "metadata": {},
   "source": [
    "# Data Science Capstone Project - Solving Business Problems with Location Data"
   ]
  },
  {
   "cell_type": "markdown",
   "metadata": {},
   "source": [
    "## Table of contents\n",
    "* [Introduction/Business Problem](#introduction)\n",
    "* [Data](#data)\n",
    "* [Methodology](#methodology)\n",
    "* [Results](#results)\n",
    "* [Discussion](#discussion)\n",
    "* [Conclusion](#conclusion)"
   ]
  },
  {
   "cell_type": "markdown",
   "metadata": {},
   "source": [
    "## Introduction/Business Problem <a name=\"introduction\"></a>\n",
    "\n",
    "For this project, we have been tasked with coming up with the best possible location for a company's first Cafe and Coffee Shop. The business owners have very ambitious plans for growth in the coming years as a result of their business acumen and experience in different hospitality ventures over the years. They have tasked us with coming up with an ideal location to open their business.\n",
    "\n",
    "They have identified the area of South Dublin to open their first location, for two main reasons. The first reason is that Dublin City Centre is so densely populated with coffee shops, cafes and restaurants that it is too competitive to flourish in such a competitive market, especially with a new and unknown brand. It should noted that the business owners are open to locations immediately outside the city on the South side.\n",
    "\n",
    "The second reason is that South Dublin is considered a very wealthy and affluent area. It is the assumption of the business owners that if they can provide a leading service and quality of product, that the inhabitants of the South side of the River Liffey will spend more money and keep coming back. They hope that this location will be the first of many; once they develop the brand here, they can then branch out in to the city centre with a better-known brand and quality of coffee.\n",
    "\n",
    "<img src=\"images/coffee.jpg\">\n",
    "\n",
    "Further to the South of the city being an ideal area to start this business, it is on the coastal area of the South where the quality of life is higher. This area also boasts the DART (Dublin Area Rapid Transit) Railway network leading in to the city and so the owners would ideally like to open a location close to one of these stations, hoping to attract early-morning commuters as well as catering for a lunchtime crowd. \n",
    "\n",
    "<img src=\"images/dart.jpeg\">\n",
    "\n",
    "In order to identify the primary location for the first outlet, we need to take in to account the amount of competitor outlets that are already operating there, while also exploring if there are many shops and other services in the area. We will achieve this by utilizing the FourSquare API to return such locations."
   ]
  },
  {
   "cell_type": "markdown",
   "metadata": {},
   "source": [
    "## Data <a name=\"data\"></a>\n",
    "\n",
    "### **Part 1:**"
   ]
  },
  {
   "cell_type": "markdown",
   "metadata": {},
   "source": [
    "Before any data preprocessing could be done, we had to install and load the packages required for the project. These included \n",
    "\n",
    "- *numpy (handles data in vectorized manner)*\n",
    "- *pandas (dataframe manipulation and analysis)* \n",
    "- *geopy (look up geo coordinates)* \n",
    "- *requests (make the GET request to FourSquare API)*\n",
    "- *matplotlib (plotting of maps)*\n",
    "- *sklearn (clustering)* \n",
    "- *folium (map creation)*"
   ]
  },
  {
   "cell_type": "markdown",
   "metadata": {},
   "source": [
    "The first main part of our data process was to obtain the list of DART stations on the Dublin Southside. One such list can be found [here](https://data.smartdublin.ie/dataset/dlr-dart-stations/resource/db0ff728-884e-40c0-9e3c-e13344d00dfc). After reading in this file and inspecting the data we noticed that the X and Y coordinates were incorrect for the city of Dublin so we had to ascertain the correct coordinates using the Nominatim feature of the geopy package. Firstly though, we removed these columns along with the column named *stop_id* as there was no use for it during this process."
   ]
  },
  {
   "cell_type": "markdown",
   "metadata": {},
   "source": [
    "The second issue with the dataset is that it there were duplicate rows. All station information was repeated six times. We only wanted rows 0-18 so we had to remove the duplicates."
   ]
  },
  {
   "cell_type": "markdown",
   "metadata": {},
   "source": [
    "The next step in the process was to replace the words *Train Station* with the string *, Dublin* so that the locations could be correctly picked up when we fetch the coordinates using geopy."
   ]
  },
  {
   "cell_type": "markdown",
   "metadata": {},
   "source": [
    "Next we exported the sole remaining column (stop_name) to a list so it could be used in a for loop and appended to the new dataframe that we create."
   ]
  },
  {
   "cell_type": "markdown",
   "metadata": {},
   "source": [
    "We then created the empty dataframe called *stations* with the column names *station* (replacing stop_name), *latitude* and *longitude*."
   ]
  },
  {
   "cell_type": "markdown",
   "metadata": {},
   "source": [
    "After supplying the list of stops to the geopy function, we obtained the correct coordinates for each of the stations and then appended these along with the station names to our new dataframe."
   ]
  },
  {
   "cell_type": "markdown",
   "metadata": {},
   "source": [
    "We decided to remove stations Tara St, Connolly and Docklands as these were deemed to be in the city centre and not a location we were interested in. "
   ]
  },
  {
   "cell_type": "markdown",
   "metadata": {},
   "source": [
    "### **Part 2:**\n",
    "\n",
    "The second part of the data process is to utilize the FourSquare API to get a list of competing businesses in the areas we want to explore. Firstly, we defined our API credentials and called the venues endpoint to obtain the venue name, coordinates and the type of business and associate them with the stations that we defined in Part 1."
   ]
  },
  {
   "cell_type": "markdown",
   "metadata": {},
   "source": [
    "We then created a new dataframe combining venue information from FourSquare and original station information we had processed in Part 1."
   ]
  },
  {
   "cell_type": "markdown",
   "metadata": {},
   "source": [
    "Upon inspecting the data we saw that not all Train stations were picked up by the FourSquare location data. There were only 10 whereas there should be 17 in total. We had to create a new dataframe with those stations and their coordinates and merge them with our main dataframe. We verified that the number of rows increased by seven so we were now happy with the data set and ready to analyze and explore it."
   ]
  },
  {
   "cell_type": "markdown",
   "metadata": {},
   "source": [
    "## Methodology <a name=\"methodology\"></a>\n",
    "\n",
    "### Analysis"
   ]
  },
  {
   "cell_type": "markdown",
   "metadata": {},
   "source": [
    "Our first part of analysis was to look at the list of business types in the areas we want to locate our business. We were particularly interested in areas that had shopping centres, department stores or other amenities. Facilities in these areas indicate there would be a certain level of foot traffic meaning there should be more people around to enjoy a cup of coffee or a tasty sandwich during the normal hours of business."
   ]
  },
  {
   "cell_type": "markdown",
   "metadata": {},
   "source": [
    "The full list of the types of businesses and public amenities we wanted to include in our exploration were: \n",
    "\n",
    "- Plaza\n",
    "- Shopping Mall\n",
    "- Department Store\n",
    "- Clothing Store\n",
    "- Waterfront\n",
    "- Science Museum\n",
    "- Art Museum\n",
    "- Museum\n",
    "- Flea Market\n",
    "- Market\n",
    "- Nail Salon\n",
    "- Yoga Studio\n",
    "- Playground\n",
    "\n",
    "These were all returned from the FourSquare API and are located around the stations of interest.\n",
    "\n",
    "We created a new dataframe selecting only these venues along with cafes, coffee shops and sandwich places as these were the types of labels that are business will be associated with. We also add the train stations to this query to ensure all of our stations are picked up."
   ]
  },
  {
   "cell_type": "markdown",
   "metadata": {},
   "source": [
    "This meant we could produce our first visual display of these businesses and areas which made things much easier for identifying the most ideal locations to set up our business."
   ]
  },
  {
   "cell_type": "markdown",
   "metadata": {},
   "source": [
    "An example of the businesses around Blackrock Station after zooming in on our map:\n",
    "\n",
    "<img src=\"images/map_example.png\">"
   ]
  },
  {
   "cell_type": "markdown",
   "metadata": {},
   "source": [
    "We could now also group this data by the number of businesses per station location, telling us easily which locations we might want to avoid (large volume of cafes at one location) and which ones we were more likely to consider (fewer volume).\n",
    "\n",
    "After doing this, Blackrock showed it had three cafes and three coffee shops in its vicinity while Dun Laoghaire had seven coffee shops and four cafes."
   ]
  },
  {
   "cell_type": "markdown",
   "metadata": {},
   "source": [
    "We used **one hot encoding** to analyze the area around each station in more detail, taking the mean of the frequency of occurrence of each venue."
   ]
  },
  {
   "cell_type": "markdown",
   "metadata": {},
   "source": [
    "From this we printed each area along with the top 5 most common venues:"
   ]
  },
  {
   "cell_type": "markdown",
   "metadata": {},
   "source": [
    "The areas of Blackrock to Dalkey showing the frequency of venue types nearby:\n",
    "\n",
    "<img src=\"images/res1.png\">\n",
    "\n",
    "The areas of Dun Laoghaire to Glenageary showing the frequency of venue types nearby:\n",
    "\n",
    "<img src=\"images/res2.png\">\n",
    "\n",
    "The areas of Grand Canal Dock to Pearse St showing the frequency of venue types nearby:\n",
    "\n",
    "<img src=\"images/res3.png\">\n",
    "\n",
    "The areas of Salthill & Monkstown to Seapoint showing the frequency of venue types nearby:\n",
    "\n",
    "<img src=\"images/res4.png\">\n",
    "\n",
    "The areas of Shankhill and Sydney Parade showing the frequency of venue types nearby:\n",
    "\n",
    "<img src=\"images/res5.png\">\n"
   ]
  },
  {
   "cell_type": "markdown",
   "metadata": {},
   "source": [
    "Next we created a new dataframe and displayed the top 10 venues for each area.\n",
    "\n",
    "<img src=\"images/top10_venues.png\">"
   ]
  },
  {
   "cell_type": "markdown",
   "metadata": {},
   "source": [
    "### Clustering of Stations\n",
    "\n",
    "The next step in the analysis was to perform clustering of our venues stations, so we can easily see the main clusters we want to explore.\n",
    "\n",
    "<img src=\"images/cluster_group.png\">"
   ]
  },
  {
   "cell_type": "markdown",
   "metadata": {},
   "source": [
    "We created another map with the stations in their respective clusters.\n",
    "\n",
    "<img src=\"images/cluster_map.png\">"
   ]
  },
  {
   "cell_type": "markdown",
   "metadata": {},
   "source": [
    "Let's look at some of our main clusters:\n",
    "\n",
    "<img src=\"images/cluster1.png\">\n",
    "\n",
    "<img src=\"images/cluster2.png\">"
   ]
  },
  {
   "cell_type": "markdown",
   "metadata": {},
   "source": [
    "## Results <a name=\"results\"></a>\n",
    "\n",
    "Now that we have performed our main analysis, we can start to deduce what the best locations for the business will be. Based on the maps and tables above, we will split the areas in to three sections.\n",
    "\n",
    "**1. Stations with lack of Services**\n",
    "\n",
    "Right off the bat we can omit certain areas from our area of interest. We included the three most furthest stations but they are too far away AND have very little other services around them:\n",
    "\n",
    "- Killiney\n",
    "- Shankhill\n",
    "- Bray\n",
    "- Glenageary\n",
    "\n",
    "Despite their relative distance to the centre of Dublin, the folllowing stations have no meaningful services around them so it would not be wise to place a coffee shop/cafe here. These are:\n",
    "\n",
    "- Booterstown\n",
    "- Seapoint\n",
    "\n",
    "**2. Stations with tough competition**\n",
    "\n",
    "The areas of two stations which would provide fierce competition are **Blackrock** (pcitured below) and **Dun Laoghaire**. \n",
    "\n",
    "<img src=\"images/blackrock.jpg\">\n",
    "\n",
    "Despite these being built-up areas with many services (shopping centres), they both have a high number of cafes/coffee shops (Blackrock - 6, Dun Laoghaire - 12) and these 2 types of business are their top 2 most common venues. Further towards the city, Pearse St and Grand Canal Dock also have tough competition and due to their proximity to the city centre, they would not satisfy the criteria of being a truly South Dublin brand, as set out in the Introduction.\n",
    "\n",
    "**3. Areas to consider**\n",
    "\n",
    "The following areas are ideal for consideration due to a the average frequency of occurrence of cafe/coffee shops and also the number of these types of businesses. We've broken them down by these results and we will discuss them in further detail in the Discussion section.\n",
    "\n",
    "*Lansdowne Road*\n",
    "\n",
    "- Cafe Frequency of occurrence: 0.62\n",
    "- Coffee Shop Frequency of occurrence: 0.00\n",
    "- Total Cafes: 5\n",
    "- Total Coffee Shops: 0\n",
    "\n",
    "*Sandymount*\n",
    "\n",
    "- Cafe Frequency of occurrence: 0.5\n",
    "- Coffee Shop Frequency of occurrence: 0.00\n",
    "- Total Cafes: 1\n",
    "- Total Coffee Shops: 0\n",
    "\n",
    "*Sydney Parade*\n",
    "\n",
    "- Cafe Frequency of occurrence: 0.00\n",
    "- Coffee Shop Frequency of occurrence: 0.33\n",
    "- Total Cafes: 1\n",
    "- Total Coffee Shops: 0\n",
    "\n",
    "*Salthill & Monkstown*\n",
    "\n",
    "- Cafe Frequency of occurrence: 0.5\n",
    "- Coffee Shop Frequency of occurrence: 0.00\n",
    "- Total Cafes: 1\n",
    "- Total Coffee Shops: 0\n",
    "\n",
    "*Sandycove & Glasthule*\n",
    "\n",
    "- Cafe Frequency of occurrence: 0.29\n",
    "- Coffee Shop Frequency of occurrence: 0.43\n",
    "- Total Cafes: 2\n",
    "- Total Coffee Shops: 3\n",
    "\n",
    "*Dalkey*\n",
    "\n",
    "- Cafe Frequency of occurrence: 0.67\n",
    "- Coffee Shop Frequency of occurrence: 0.33\n",
    "- Total Cafes: 2\n",
    "- Total Coffee Shops: 1"
   ]
  },
  {
   "cell_type": "markdown",
   "metadata": {},
   "source": [
    "## Discussion <a name=\"discussion\"></a>\n"
   ]
  },
  {
   "cell_type": "markdown",
   "metadata": {},
   "source": [
    "Based on the results above, let's discuss these locations in further detail. The locations can in fact be split again based on location to city centre from looking at the map. First up is **Lansdowne Road** and **Sandymount**. The latter has just the one coffee shop to the former's four. **Lansdowne Road** station does boast a Foot and Nail Spa business close by whereas there are no other businesses near the Sandymount station. Lansdowne Road is also famous for the majestic Aviva Stadium, pictured below.\n",
    "\n",
    "<img src=\"images/aviva.jpeg\">\n",
    "\n",
    "The next area to consider is **Sydney Parade**. There is just one cafe here already and the area is quite close to Sandymount Promenade which offers and ideal getaway for a stroll and takeaway coffee during the Spring and Autumn months.\n",
    "\n",
    "\n",
    "Venturing deeper South now past Blackrock, we have **Salthill & Monkstown**, **Sandycove & Glasthule** and **Dalkey**. These three areas represent the true suburbs of South Dublin in our context here. **Salthill & Monkstown** has just the one cafe in proximity to the station, while **Sandycove & Glasthule** has two coffee shops and three cafes in its proximity. From exploring the map further, however, three of the five combined businesses are on the main Glasthule Road on the way to the station, which represents high competition for such a suburban area.\n",
    "\n",
    "The final area to explore is **Dalkey**. **Dalkey** is considered the most affluent area in South Dublin, home to many celebrities and wealthy business people. It has two cafes and one coffee shop off the main street, Castle Street, leading to the station. \n",
    "\n",
    "<img src=\"images/dalkey.jpg\">\n",
    "\n",
    "It is the furthest south of our selected locations but could prove a hit with locals if this is to be chosen.\n",
    "\n",
    "In summary, we have **Lansdowne Road**, **Sandymount** and **Sydney Parade** on the side closest to the city centre. We would recommend either **Sandymount** or **Sydney Parade** from this area as there is currently only one other cafe operating in each location.\n",
    "\n",
    "In the more suburban areas, we have **Salthill & Monkstown**, **Sandycove & Glasthule** and **Dalkey**. **Salthill & Monkstown** would be the recommendation based on the current amount of competing businesses in proximity. However, given the allure and status of **Dalkey**, this may play a role in selecting this as the location, despite a higher amount of competition here."
   ]
  },
  {
   "cell_type": "markdown",
   "metadata": {},
   "source": [
    "## Conclusion <a name=\"conclusion\"></a>\n",
    "\n",
    "The purpose of this project was to utilize location data using the FourSquare API to then provide a number of recommendations to open the first location of a new business venture. The primary stakeholders are the business owners themselves, who are looking to open up a cafe/coffee shop in South Dublin.\n",
    "\n",
    "Our role as data scientists was to analyze the data that we tidied from inspecting the Foursquare location data and Dublin DART stations data. From this we had to provide clear and presentable findings to the business owners, using a variety of techniques from explorartory to data analysis to machine learning. We were able to rule out areas based on the criteria set out by the stakeholders and furthermore were able to identify the locations that were suited to their business objective. We took the results and dissected them further in the discussion section, where the owners can take upon themselves to make a final decision on where to open the first location of this new business venture."
   ]
  },
  {
   "cell_type": "code",
   "execution_count": null,
   "metadata": {},
   "outputs": [],
   "source": []
  }
 ],
 "metadata": {
  "kernelspec": {
   "display_name": "Python 3",
   "language": "python",
   "name": "python3"
  },
  "language_info": {
   "codemirror_mode": {
    "name": "ipython",
    "version": 3
   },
   "file_extension": ".py",
   "mimetype": "text/x-python",
   "name": "python",
   "nbconvert_exporter": "python",
   "pygments_lexer": "ipython3",
   "version": "3.7.7"
  }
 },
 "nbformat": 4,
 "nbformat_minor": 4
}
